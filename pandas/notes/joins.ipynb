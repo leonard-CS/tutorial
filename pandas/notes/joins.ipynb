{
 "cells": [
  {
   "cell_type": "markdown",
   "metadata": {},
   "source": [
    "# `merge()`\n",
    "\n",
    "The merge() function is used for merging DataFrames based on one or more keys.\n",
    "\n",
    "**Syntax**:\n",
    "\n",
    "```python\n",
    "pd.merge(left, right, how='inner', on=None, left_on=None, right_on=None, left_index=False, right_index=False)\n",
    "```\n",
    "\n",
    "- `left`: The first DataFrame.\n",
    "- `right`: The second DataFrame.\n",
    "- `how`: Type of join (`inner`, `outer`, `left`, `right`).\n",
    "- `on`: Column or index level names to join on. Must be found in both DataFrames.\n",
    "- `left_on`: Columns from the left DataFrame to use as keys.\n",
    "- `right_on`: Columns from the right DataFrame to use as keys.\n",
    "- `left_index`: Use the index from the left DataFrame as a key.\n",
    "- `right_index`: Use the index from the right DataFrame as a key."
   ]
  },
  {
   "cell_type": "code",
   "execution_count": 1,
   "metadata": {},
   "outputs": [
    {
     "name": "stdout",
     "output_type": "stream",
     "text": [
      "inner:\n",
      "\n",
      "    A   B key   C   D\n",
      "0  A0  B0  K0  C0  D0\n",
      "1  A1  B1  K1  C1  D1\n",
      "outer:\n",
      "\n",
      "     A    B key    C    D\n",
      "0   A0   B0  K0   C0   D0\n",
      "1   A1   B1  K1   C1   D1\n",
      "2   A2   B2  K2  NaN  NaN\n",
      "3  NaN  NaN  K3   C2   D2\n",
      "left:\n",
      "\n",
      "    A   B key    C    D\n",
      "0  A0  B0  K0   C0   D0\n",
      "1  A1  B1  K1   C1   D1\n",
      "2  A2  B2  K2  NaN  NaN\n",
      "right:\n",
      "\n",
      "     A    B key   C   D\n",
      "0   A0   B0  K0  C0  D0\n",
      "1   A1   B1  K1  C1  D1\n",
      "2  NaN  NaN  K3  C2  D2\n"
     ]
    }
   ],
   "source": [
    "import pandas as pd\n",
    "\n",
    "# Create two DataFrames\n",
    "df1 = pd.DataFrame({'A': ['A0', 'A1', 'A2'],\n",
    "                    'B': ['B0', 'B1', 'B2'],\n",
    "                    'key': ['K0', 'K1', 'K2']})\n",
    "\n",
    "df2 = pd.DataFrame({'C': ['C0', 'C1', 'C2'],\n",
    "                    'D': ['D0', 'D1', 'D2'],\n",
    "                    'key': ['K0', 'K1', 'K3']})\n",
    "\n",
    "# Perform an inner join\n",
    "inner = pd.merge(df1, df2, on='key', how='inner')\n",
    "print(\"inner:\\n\")\n",
    "print(inner)\n",
    "outer = pd.merge(df1, df2, on='key', how='outer')\n",
    "print(\"outer:\\n\")\n",
    "print(outer)\n",
    "left = pd.merge(df1, df2, on='key', how='left')\n",
    "print(\"left:\\n\")\n",
    "print(left)\n",
    "right = pd.merge(df1, df2, on='key', how='right')\n",
    "print(\"right:\\n\")\n",
    "print(right)"
   ]
  },
  {
   "cell_type": "markdown",
   "metadata": {},
   "source": [
    "## Types of Joins\n",
    "\n",
    "- **Inner Join** (`how='inner'`): Returns only the rows with keys present in **both** DataFrames.\n",
    "- **Outer Join** (`how='outer'`): Returns **all rows** from both DataFrames, with NaNs where there is no match.\n",
    "- **Left Join** (`how='left'`): Returns all rows from the **left** DataFrame, with NaNs where there is no match in the right DataFrame.\n",
    "- **Right Join** (`how='right'`): Returns all rows from the **right** DataFrame, with NaNs where there is no match in the left DataFrame."
   ]
  },
  {
   "cell_type": "markdown",
   "metadata": {},
   "source": [
    "# `join()` on Index\n",
    "You can also join DataFrames using their indices."
   ]
  },
  {
   "cell_type": "code",
   "execution_count": 2,
   "metadata": {},
   "outputs": [
    {
     "name": "stdout",
     "output_type": "stream",
     "text": [
      "inner:\n",
      "     A   B   C   D\n",
      "K0  A0  B0  C0  D0\n",
      "K1  A1  B1  C1  D1\n",
      "\n",
      "outer:\n",
      "      A    B    C    D\n",
      "K0   A0   B0   C0   D0\n",
      "K1   A1   B1   C1   D1\n",
      "K2   A2   B2  NaN  NaN\n",
      "K3  NaN  NaN   C2   D2\n",
      "\n",
      "left:\n",
      "     A   B    C    D\n",
      "K0  A0  B0   C0   D0\n",
      "K1  A1  B1   C1   D1\n",
      "K2  A2  B2  NaN  NaN\n",
      "\n",
      "right:\n",
      "      A    B   C   D\n",
      "K0   A0   B0  C0  D0\n",
      "K1   A1   B1  C1  D1\n",
      "K3  NaN  NaN  C2  D2\n"
     ]
    }
   ],
   "source": [
    "import pandas as pd\n",
    "\n",
    "# Create two DataFrames\n",
    "df1 = pd.DataFrame({'A': ['A0', 'A1', 'A2'],\n",
    "                    'B': ['B0', 'B1', 'B2']},\n",
    "                    index=['K0', 'K1', 'K2'])\n",
    "\n",
    "df2 = pd.DataFrame({'C': ['C0', 'C1', 'C2'],\n",
    "                    'D': ['D0', 'D1', 'D2']},\n",
    "                    index=['K0', 'K1', 'K3'])\n",
    "\n",
    "# Perform an inner join\n",
    "inner = df1.join(df2, how='inner')\n",
    "print(\"inner:\")\n",
    "print(inner)\n",
    "outer = df1.join(df2, how='outer')\n",
    "print(\"\\nouter:\")\n",
    "print(outer)\n",
    "left = df1.join(df2, how='left')\n",
    "print(\"\\nleft:\")\n",
    "print(left)\n",
    "right = df1.join(df2, how='right')\n",
    "print(\"\\nright:\")\n",
    "print(right)"
   ]
  },
  {
   "cell_type": "markdown",
   "metadata": {},
   "source": [
    "# `concat()`\n",
    "`concat()` can combine DataFrames along a particular axis."
   ]
  },
  {
   "cell_type": "code",
   "execution_count": 3,
   "metadata": {},
   "outputs": [
    {
     "name": "stdout",
     "output_type": "stream",
     "text": [
      "axis=0\n",
      "    A    B    C\n",
      "0  A0   B0  NaN\n",
      "1  A1   B1  NaN\n",
      "0  A2  NaN   C2\n",
      "1  A3  NaN   C3\n",
      "\n",
      "axis=1\n",
      "    A   B   A   C\n",
      "0  A0  B0  A2  C2\n",
      "1  A1  B1  A3  C3\n"
     ]
    }
   ],
   "source": [
    "df3 = pd.DataFrame({'A': ['A0', 'A1'],\n",
    "                    'B': ['B0', 'B1']})\n",
    "\n",
    "df4 = pd.DataFrame({'A': ['A2', 'A3'],\n",
    "                    'C': ['C2', 'C3']})\n",
    "\n",
    "result_concat0 = pd.concat([df3, df4], axis=0)\n",
    "print(\"axis=0\")\n",
    "print(result_concat0)\n",
    "result_concat1 = pd.concat([df3, df4], axis=1)\n",
    "print(\"\\naxis=1\")\n",
    "print(result_concat1)"
   ]
  }
 ],
 "metadata": {
  "kernelspec": {
   "display_name": ".venv",
   "language": "python",
   "name": "python3"
  },
  "language_info": {
   "codemirror_mode": {
    "name": "ipython",
    "version": 3
   },
   "file_extension": ".py",
   "mimetype": "text/x-python",
   "name": "python",
   "nbconvert_exporter": "python",
   "pygments_lexer": "ipython3",
   "version": "3.12.5"
  }
 },
 "nbformat": 4,
 "nbformat_minor": 2
}
