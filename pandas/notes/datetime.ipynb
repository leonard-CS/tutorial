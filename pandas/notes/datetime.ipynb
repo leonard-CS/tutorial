{
 "cells": [
  {
   "cell_type": "markdown",
   "metadata": {},
   "source": [
    "# Date/Time with Pandas"
   ]
  },
  {
   "cell_type": "code",
   "execution_count": 1,
   "metadata": {},
   "outputs": [
    {
     "name": "stdout",
     "output_type": "stream",
     "text": [
      "2024-09-10 00:00:00\n",
      "0   2024-09-01\n",
      "1   2024-09-02\n",
      "2   2024-09-03\n",
      "3   2024-09-04\n",
      "4   2024-09-05\n",
      "dtype: datetime64[ns]\n",
      "       dates  values\n",
      "0 2024-09-01      10\n",
      "1 2024-09-02      20\n",
      "2 2024-09-03      30\n",
      "3 2024-09-04      40\n",
      "4 2024-09-05      50\n"
     ]
    }
   ],
   "source": [
    "import pandas as pd\n",
    "\n",
    "# Creating a single datetime object\n",
    "dt = pd.Timestamp('2024-09-10')\n",
    "print(dt)\n",
    "\n",
    "# Creating a Series with datetime data\n",
    "dates = pd.Series(pd.date_range('2024-09-01', end='2024-09-05'))\n",
    "print(dates)\n",
    "\n",
    "# Creating a DataFrame with datetime data\n",
    "df = pd.DataFrame({'dates': pd.date_range('2024-09-01', periods=5),\n",
    "                   'values': [10, 20, 30, 40, 50]})\n",
    "print(df)"
   ]
  },
  {
   "cell_type": "markdown",
   "metadata": {},
   "source": [
    "## Extracting Components"
   ]
  },
  {
   "cell_type": "code",
   "execution_count": 2,
   "metadata": {},
   "outputs": [
    {
     "name": "stdout",
     "output_type": "stream",
     "text": [
      "       dates  values  year  month  day\n",
      "0 2024-09-01      10  2024      9    1\n",
      "1 2024-09-02      20  2024      9    2\n",
      "2 2024-09-03      30  2024      9    3\n",
      "3 2024-09-04      40  2024      9    4\n",
      "4 2024-09-05      50  2024      9    5\n"
     ]
    }
   ],
   "source": [
    "df_new = df.copy()\n",
    "# Extract year, month, day, etc.\n",
    "df_new['year'] = df['dates'].dt.year\n",
    "df_new['month'] = df['dates'].dt.month\n",
    "df_new['day'] = df['dates'].dt.day\n",
    "\n",
    "print(df_new)"
   ]
  },
  {
   "cell_type": "markdown",
   "metadata": {},
   "source": [
    "## Date/Time Operations"
   ]
  },
  {
   "cell_type": "code",
   "execution_count": 3,
   "metadata": {},
   "outputs": [
    {
     "name": "stdout",
     "output_type": "stream",
     "text": [
      "       dates  values dates_plus_10_days date_diff  date_diff_in_days\n",
      "0 2024-09-01      10         2024-09-11    0 days                  0\n",
      "1 2024-09-02      20         2024-09-12    1 days                  1\n",
      "2 2024-09-03      30         2024-09-13    2 days                  2\n",
      "3 2024-09-04      40         2024-09-14    3 days                  3\n",
      "4 2024-09-05      50         2024-09-15    4 days                  4\n"
     ]
    }
   ],
   "source": [
    "df_new = df.copy()\n",
    "# Adding time delta\n",
    "df_new['dates_plus_10_days'] = df['dates'] + pd.Timedelta(days=10)\n",
    "\n",
    "# Subtracting dates\n",
    "df_new['date_diff'] = df['dates'] - pd.Timestamp('2024-09-01')\n",
    "\n",
    "# Getting the difference between two dates\n",
    "df_new['date_diff_in_days'] = (df['dates'] - pd.Timestamp('2024-09-01')).dt.days\n",
    "\n",
    "print(df_new)"
   ]
  },
  {
   "cell_type": "markdown",
   "metadata": {},
   "source": [
    "## Resampling and Frequency Conversion"
   ]
  },
  {
   "cell_type": "code",
   "execution_count": 4,
   "metadata": {},
   "outputs": [
    {
     "name": "stdout",
     "output_type": "stream",
     "text": [
      "2024-01-01    1\n",
      "2024-01-02    2\n",
      "2024-01-03    3\n",
      "2024-01-04    4\n",
      "2024-01-05    5\n",
      "Freq: D, dtype: int64\n",
      "\n",
      "2024-01-07    15\n",
      "Freq: W-SUN, dtype: int64\n"
     ]
    }
   ],
   "source": [
    "# Create a time series\n",
    "ts = pd.Series([1, 2, 3, 4, 5], index=pd.date_range('2024-01-01', periods=5, freq='D'))\n",
    "print(ts)\n",
    "print()\n",
    "\n",
    "# Resample to a different frequency (e.g., weekly)\n",
    "ts_resampled = ts.resample('W').sum()\n",
    "print(ts_resampled)"
   ]
  },
  {
   "cell_type": "markdown",
   "metadata": {},
   "source": [
    "## Handling Time Zones"
   ]
  },
  {
   "cell_type": "code",
   "execution_count": 5,
   "metadata": {},
   "outputs": [
    {
     "ename": "KeyError",
     "evalue": "'dates_utc'",
     "output_type": "error",
     "traceback": [
      "\u001b[0;31m---------------------------------------------------------------------------\u001b[0m",
      "\u001b[0;31mKeyError\u001b[0m                                  Traceback (most recent call last)",
      "File \u001b[0;32m~/Projects/tutorial/.venv/lib/python3.12/site-packages/pandas/core/indexes/base.py:3805\u001b[0m, in \u001b[0;36mIndex.get_loc\u001b[0;34m(self, key)\u001b[0m\n\u001b[1;32m   3804\u001b[0m \u001b[38;5;28;01mtry\u001b[39;00m:\n\u001b[0;32m-> 3805\u001b[0m     \u001b[38;5;28;01mreturn\u001b[39;00m \u001b[38;5;28;43mself\u001b[39;49m\u001b[38;5;241;43m.\u001b[39;49m\u001b[43m_engine\u001b[49m\u001b[38;5;241;43m.\u001b[39;49m\u001b[43mget_loc\u001b[49m\u001b[43m(\u001b[49m\u001b[43mcasted_key\u001b[49m\u001b[43m)\u001b[49m\n\u001b[1;32m   3806\u001b[0m \u001b[38;5;28;01mexcept\u001b[39;00m \u001b[38;5;167;01mKeyError\u001b[39;00m \u001b[38;5;28;01mas\u001b[39;00m err:\n",
      "File \u001b[0;32mindex.pyx:167\u001b[0m, in \u001b[0;36mpandas._libs.index.IndexEngine.get_loc\u001b[0;34m()\u001b[0m\n",
      "File \u001b[0;32mindex.pyx:196\u001b[0m, in \u001b[0;36mpandas._libs.index.IndexEngine.get_loc\u001b[0;34m()\u001b[0m\n",
      "File \u001b[0;32mpandas/_libs/hashtable_class_helper.pxi:7081\u001b[0m, in \u001b[0;36mpandas._libs.hashtable.PyObjectHashTable.get_item\u001b[0;34m()\u001b[0m\n",
      "File \u001b[0;32mpandas/_libs/hashtable_class_helper.pxi:7089\u001b[0m, in \u001b[0;36mpandas._libs.hashtable.PyObjectHashTable.get_item\u001b[0;34m()\u001b[0m\n",
      "\u001b[0;31mKeyError\u001b[0m: 'dates_utc'",
      "\nThe above exception was the direct cause of the following exception:\n",
      "\u001b[0;31mKeyError\u001b[0m                                  Traceback (most recent call last)",
      "Cell \u001b[0;32mIn[5], line 6\u001b[0m\n\u001b[1;32m      3\u001b[0m df_time_zones[\u001b[38;5;124m'\u001b[39m\u001b[38;5;124mdates_utc\u001b[39m\u001b[38;5;124m'\u001b[39m] \u001b[38;5;241m=\u001b[39m df[\u001b[38;5;124m'\u001b[39m\u001b[38;5;124mdates\u001b[39m\u001b[38;5;124m'\u001b[39m]\u001b[38;5;241m.\u001b[39mdt\u001b[38;5;241m.\u001b[39mtz_localize(\u001b[38;5;124m'\u001b[39m\u001b[38;5;124mUTC\u001b[39m\u001b[38;5;124m'\u001b[39m)\n\u001b[1;32m      5\u001b[0m \u001b[38;5;66;03m# Convert to a different time zone\u001b[39;00m\n\u001b[0;32m----> 6\u001b[0m df_time_zones[\u001b[38;5;124m'\u001b[39m\u001b[38;5;124mdates_ny\u001b[39m\u001b[38;5;124m'\u001b[39m] \u001b[38;5;241m=\u001b[39m \u001b[43mdf\u001b[49m\u001b[43m[\u001b[49m\u001b[38;5;124;43m'\u001b[39;49m\u001b[38;5;124;43mdates_utc\u001b[39;49m\u001b[38;5;124;43m'\u001b[39;49m\u001b[43m]\u001b[49m\u001b[38;5;241m.\u001b[39mdt\u001b[38;5;241m.\u001b[39mtz_convert(\u001b[38;5;124m'\u001b[39m\u001b[38;5;124mAmerica/New_York\u001b[39m\u001b[38;5;124m'\u001b[39m)\n\u001b[1;32m      8\u001b[0m \u001b[38;5;28mprint\u001b[39m(df_time_zones)\n",
      "File \u001b[0;32m~/Projects/tutorial/.venv/lib/python3.12/site-packages/pandas/core/frame.py:4102\u001b[0m, in \u001b[0;36mDataFrame.__getitem__\u001b[0;34m(self, key)\u001b[0m\n\u001b[1;32m   4100\u001b[0m \u001b[38;5;28;01mif\u001b[39;00m \u001b[38;5;28mself\u001b[39m\u001b[38;5;241m.\u001b[39mcolumns\u001b[38;5;241m.\u001b[39mnlevels \u001b[38;5;241m>\u001b[39m \u001b[38;5;241m1\u001b[39m:\n\u001b[1;32m   4101\u001b[0m     \u001b[38;5;28;01mreturn\u001b[39;00m \u001b[38;5;28mself\u001b[39m\u001b[38;5;241m.\u001b[39m_getitem_multilevel(key)\n\u001b[0;32m-> 4102\u001b[0m indexer \u001b[38;5;241m=\u001b[39m \u001b[38;5;28;43mself\u001b[39;49m\u001b[38;5;241;43m.\u001b[39;49m\u001b[43mcolumns\u001b[49m\u001b[38;5;241;43m.\u001b[39;49m\u001b[43mget_loc\u001b[49m\u001b[43m(\u001b[49m\u001b[43mkey\u001b[49m\u001b[43m)\u001b[49m\n\u001b[1;32m   4103\u001b[0m \u001b[38;5;28;01mif\u001b[39;00m is_integer(indexer):\n\u001b[1;32m   4104\u001b[0m     indexer \u001b[38;5;241m=\u001b[39m [indexer]\n",
      "File \u001b[0;32m~/Projects/tutorial/.venv/lib/python3.12/site-packages/pandas/core/indexes/base.py:3812\u001b[0m, in \u001b[0;36mIndex.get_loc\u001b[0;34m(self, key)\u001b[0m\n\u001b[1;32m   3807\u001b[0m     \u001b[38;5;28;01mif\u001b[39;00m \u001b[38;5;28misinstance\u001b[39m(casted_key, \u001b[38;5;28mslice\u001b[39m) \u001b[38;5;129;01mor\u001b[39;00m (\n\u001b[1;32m   3808\u001b[0m         \u001b[38;5;28misinstance\u001b[39m(casted_key, abc\u001b[38;5;241m.\u001b[39mIterable)\n\u001b[1;32m   3809\u001b[0m         \u001b[38;5;129;01mand\u001b[39;00m \u001b[38;5;28many\u001b[39m(\u001b[38;5;28misinstance\u001b[39m(x, \u001b[38;5;28mslice\u001b[39m) \u001b[38;5;28;01mfor\u001b[39;00m x \u001b[38;5;129;01min\u001b[39;00m casted_key)\n\u001b[1;32m   3810\u001b[0m     ):\n\u001b[1;32m   3811\u001b[0m         \u001b[38;5;28;01mraise\u001b[39;00m InvalidIndexError(key)\n\u001b[0;32m-> 3812\u001b[0m     \u001b[38;5;28;01mraise\u001b[39;00m \u001b[38;5;167;01mKeyError\u001b[39;00m(key) \u001b[38;5;28;01mfrom\u001b[39;00m \u001b[38;5;21;01merr\u001b[39;00m\n\u001b[1;32m   3813\u001b[0m \u001b[38;5;28;01mexcept\u001b[39;00m \u001b[38;5;167;01mTypeError\u001b[39;00m:\n\u001b[1;32m   3814\u001b[0m     \u001b[38;5;66;03m# If we have a listlike key, _check_indexing_error will raise\u001b[39;00m\n\u001b[1;32m   3815\u001b[0m     \u001b[38;5;66;03m#  InvalidIndexError. Otherwise we fall through and re-raise\u001b[39;00m\n\u001b[1;32m   3816\u001b[0m     \u001b[38;5;66;03m#  the TypeError.\u001b[39;00m\n\u001b[1;32m   3817\u001b[0m     \u001b[38;5;28mself\u001b[39m\u001b[38;5;241m.\u001b[39m_check_indexing_error(key)\n",
      "\u001b[0;31mKeyError\u001b[0m: 'dates_utc'"
     ]
    }
   ],
   "source": [
    "df_time_zones = df.copy()\n",
    "# Localize to a specific time zone\n",
    "df_time_zones['dates_utc'] = df['dates'].dt.tz_localize('UTC')\n",
    "\n",
    "# Convert to a different time zone\n",
    "df_time_zones['dates_ny'] = df['dates_utc'].dt.tz_convert('America/New_York')\n",
    "\n",
    "print(df_time_zones)"
   ]
  },
  {
   "cell_type": "markdown",
   "metadata": {},
   "source": [
    "## Handling Missing Dates"
   ]
  },
  {
   "cell_type": "code",
   "execution_count": null,
   "metadata": {},
   "outputs": [
    {
     "name": "stdout",
     "output_type": "stream",
     "text": [
      "       dates\n",
      "0 2024-09-01\n",
      "1 2024-09-02\n",
      "2 2024-09-03\n",
      "3 2024-09-04\n",
      "4 2024-09-05\n",
      "5 2024-09-10\n",
      "Empty DataFrame\n",
      "Columns: []\n",
      "Index: [2024-09-01 00:00:00, 2024-09-02 00:00:00, 2024-09-03 00:00:00, 2024-09-04 00:00:00, 2024-09-05 00:00:00, 2024-09-06 00:00:00, 2024-09-07 00:00:00, 2024-09-08 00:00:00, 2024-09-09 00:00:00, 2024-09-10 00:00:00]\n"
     ]
    }
   ],
   "source": [
    "# Creating a date range with missing dates\n",
    "df_missing = pd.DataFrame({'dates': pd.date_range('2024-09-01', periods=5, freq='D').append(pd.DatetimeIndex(['2024-09-10']))})\n",
    "print(df_missing)\n",
    "\n",
    "# Filling missing dates\n",
    "df_missing = df_missing.set_index('dates').asfreq('D', fill_value='N/A')\n",
    "print(df_missing)"
   ]
  }
 ],
 "metadata": {
  "kernelspec": {
   "display_name": ".venv",
   "language": "python",
   "name": "python3"
  },
  "language_info": {
   "codemirror_mode": {
    "name": "ipython",
    "version": 3
   },
   "file_extension": ".py",
   "mimetype": "text/x-python",
   "name": "python",
   "nbconvert_exporter": "python",
   "pygments_lexer": "ipython3",
   "version": "3.12.5"
  }
 },
 "nbformat": 4,
 "nbformat_minor": 2
}
