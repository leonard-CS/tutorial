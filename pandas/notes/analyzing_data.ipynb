{
 "cells": [
  {
   "cell_type": "markdown",
   "metadata": {},
   "source": [
    "# 1. Grouping Data\n",
    "\n",
    "The `groupby` functionality in pandas is a powerful tool for aggregating and analyzing data. \n",
    "It allows you to split your data into groups based on some criteria, perform operations on those groups, \n",
    "and then combine the results back into a DataFrame."
   ]
  },
  {
   "cell_type": "code",
   "execution_count": 1,
   "metadata": {},
   "outputs": [],
   "source": [
    "import pandas as pd\n",
    "\n",
    "# Sample DataFrame\n",
    "data = {'Category': ['A', 'A', 'B', 'B', 'C', 'C'],\n",
    "        'Values': [10, 20, 30, 40, 50, 60]}\n",
    "df = pd.DataFrame(data)\n",
    "\n",
    "# Group by 'Category'\n",
    "grouped = df.groupby('Category')"
   ]
  },
  {
   "cell_type": "markdown",
   "metadata": {},
   "source": [
    "In this example, `grouped` is a `DataFrameGroupBy` object, which means that it's not yet aggregated; it's just a reference to the grouped data."
   ]
  },
  {
   "cell_type": "markdown",
   "metadata": {},
   "source": [
    "## a. Aggregating Data\n",
    "\n",
    "After grouping, you can perform various aggregate functions like `sum()`, `mean()`, `count()`, etc."
   ]
  },
  {
   "cell_type": "code",
   "execution_count": 2,
   "metadata": {},
   "outputs": [
    {
     "name": "stdout",
     "output_type": "stream",
     "text": [
      "          Values\n",
      "Category        \n",
      "A             30\n",
      "B             70\n",
      "C            110\n"
     ]
    }
   ],
   "source": [
    "# Sum of 'Values' for each 'Category'\n",
    "sum_df = grouped.sum()\n",
    "print(sum_df)"
   ]
  },
  {
   "cell_type": "markdown",
   "metadata": {},
   "source": [
    "### Applying Custom Aggregations\n",
    "\n",
    "You can also use `agg()` to apply multiple aggregation functions at once or to apply custom functions."
   ]
  },
  {
   "cell_type": "code",
   "execution_count": 3,
   "metadata": {},
   "outputs": [
    {
     "name": "stdout",
     "output_type": "stream",
     "text": [
      "         Values          \n",
      "            sum  mean max\n",
      "Category                 \n",
      "A            30  15.0  20\n",
      "B            70  35.0  40\n",
      "C           110  55.0  60\n"
     ]
    }
   ],
   "source": [
    "# Multiple aggregations\n",
    "agg_df = grouped.agg({'Values': ['sum', 'mean', 'max']})\n",
    "print(agg_df)"
   ]
  },
  {
   "cell_type": "markdown",
   "metadata": {},
   "source": [
    "## b. Filtering Groups\n",
    "\n",
    "You can filter groups based on some condition using `filter()`."
   ]
  },
  {
   "cell_type": "code",
   "execution_count": 4,
   "metadata": {},
   "outputs": [
    {
     "name": "stdout",
     "output_type": "stream",
     "text": [
      "  Category  Values\n",
      "2        B      30\n",
      "3        B      40\n",
      "4        C      50\n",
      "5        C      60\n"
     ]
    }
   ],
   "source": [
    "# Filter groups where the sum of 'Values' is greater than 50\n",
    "filtered = grouped.filter(lambda x: x['Values'].sum() > 50)\n",
    "print(filtered)"
   ]
  },
  {
   "cell_type": "markdown",
   "metadata": {},
   "source": [
    "## c. Iterating Over Groups"
   ]
  },
  {
   "cell_type": "code",
   "execution_count": 5,
   "metadata": {},
   "outputs": [
    {
     "name": "stdout",
     "output_type": "stream",
     "text": [
      "Group name: A\n",
      "  Category  Values\n",
      "0        A      10\n",
      "1        A      20\n",
      "Group name: B\n",
      "  Category  Values\n",
      "2        B      30\n",
      "3        B      40\n",
      "Group name: C\n",
      "  Category  Values\n",
      "4        C      50\n",
      "5        C      60\n"
     ]
    }
   ],
   "source": [
    "for name, group in grouped:\n",
    "    print(f\"Group name: {name}\")\n",
    "    print(group)"
   ]
  },
  {
   "cell_type": "markdown",
   "metadata": {},
   "source": [
    "## d. Grouping by Multiple Columns"
   ]
  },
  {
   "cell_type": "code",
   "execution_count": 6,
   "metadata": {},
   "outputs": [
    {
     "name": "stdout",
     "output_type": "stream",
     "text": [
      "               Values\n",
      "Category Type        \n",
      "A        X         10\n",
      "         Y         20\n",
      "B        X         30\n",
      "         Y         40\n",
      "C        X         50\n",
      "         Y         60\n"
     ]
    }
   ],
   "source": [
    "# Sample DataFrame with multiple columns\n",
    "data_multi = {'Category': ['A', 'A', 'B', 'B', 'C', 'C'],\n",
    "              'Type': ['X', 'Y', 'X', 'Y', 'X', 'Y'],\n",
    "              'Values': [10, 20, 30, 40, 50, 60]}\n",
    "df_multi = pd.DataFrame(data_multi)\n",
    "\n",
    "# Group by 'Category' and 'Type'\n",
    "grouped_multi = df_multi.groupby(['Category', 'Type'])\n",
    "print(grouped_multi.sum())"
   ]
  },
  {
   "cell_type": "markdown",
   "metadata": {},
   "source": [
    "## e. Using `groupby()` with `apply()`\n",
    "\n",
    "You can apply custom functions to each group using `apply()`."
   ]
  },
  {
   "cell_type": "code",
   "execution_count": 7,
   "metadata": {},
   "outputs": [
    {
     "name": "stdout",
     "output_type": "stream",
     "text": [
      "           Category  Values\n",
      "Category                   \n",
      "A        0        A      10\n",
      "B        2        B      30\n",
      "C        4        C      50\n"
     ]
    },
    {
     "name": "stderr",
     "output_type": "stream",
     "text": [
      "/var/folders/qw/qfmpln097v9c1g7nbqm5wvkr0000gn/T/ipykernel_98953/3968848680.py:5: DeprecationWarning: DataFrameGroupBy.apply operated on the grouping columns. This behavior is deprecated, and in a future version of pandas the grouping columns will be excluded from the operation. Either pass `include_groups=False` to exclude the groupings or explicitly select the grouping columns after groupby to silence this warning.\n",
      "  result = grouped.apply(custom_func)\n"
     ]
    }
   ],
   "source": [
    "# Custom function to get the first value in each group\n",
    "def custom_func(group):\n",
    "    return group.head(1)\n",
    "\n",
    "result = grouped.apply(custom_func)\n",
    "print(result)"
   ]
  },
  {
   "cell_type": "markdown",
   "metadata": {},
   "source": [
    "## f. Transforming Data\n",
    "\n",
    "If you want to perform operations on each group but return a DataFrame of the same shape, use `transform()`."
   ]
  },
  {
   "cell_type": "code",
   "execution_count": 8,
   "metadata": {},
   "outputs": [
    {
     "name": "stdout",
     "output_type": "stream",
     "text": [
      "     Values\n",
      "0 -0.707107\n",
      "1  0.707107\n",
      "2 -0.707107\n",
      "3  0.707107\n",
      "4 -0.707107\n",
      "5  0.707107\n"
     ]
    }
   ],
   "source": [
    "# Standardize values within each group\n",
    "standardized = grouped.transform(lambda x: (x - x.mean()) / x.std())\n",
    "print(standardized)"
   ]
  },
  {
   "cell_type": "markdown",
   "metadata": {},
   "source": [
    "# 2. Aggregating Data\n",
    "\n",
    "The `aggregate()` function (or `agg()` for short) is used to apply multiple aggregation functions to the columns of a DataFrame or Series. It's very flexible and powerful for summarizing data.\n",
    "\n",
    "Here's a basic syntax:\n",
    "\n",
    "```python\n",
    "DataFrame.aggregate(func, axis=0, *args, **kwargs)\n",
    "```\n",
    "\n",
    "- `func`: The aggregation function or functions to apply.\n",
    "\n",
    "- `axis`: The axis to aggregate over. `0` (default) aggregates over columns, and `1` aggregates over rows.\n",
    "\n",
    "- `*args` and `**kwargs`: Additional arguments and keyword arguments to pass to the aggregation functions."
   ]
  },
  {
   "cell_type": "markdown",
   "metadata": {},
   "source": [
    "## a. Aggregating with a Single Function\n",
    "\n",
    "After grouping, you can perform various aggregate functions like `sum()`, `mean()`, `count()`, etc."
   ]
  },
  {
   "cell_type": "code",
   "execution_count": 9,
   "metadata": {},
   "outputs": [
    {
     "name": "stdout",
     "output_type": "stream",
     "text": [
      "A    2.5\n",
      "B    6.5\n",
      "dtype: float64\n"
     ]
    }
   ],
   "source": [
    "import pandas as pd\n",
    "\n",
    "# Sample DataFrame\n",
    "df = pd.DataFrame({\n",
    "    'A': [1, 2, 3, 4],\n",
    "    'B': [5, 6, 7, 8]\n",
    "})\n",
    "\n",
    "# Applying aggregation\n",
    "result = df.aggregate('mean')\n",
    "print(result)"
   ]
  },
  {
   "cell_type": "markdown",
   "metadata": {},
   "source": [
    "## b. Aggregating with Multiple Functions"
   ]
  },
  {
   "cell_type": "code",
   "execution_count": 10,
   "metadata": {},
   "outputs": [
    {
     "name": "stdout",
     "output_type": "stream",
     "text": [
      "             A         B\n",
      "mean  2.500000  6.500000\n",
      "std   1.290994  1.290994\n"
     ]
    }
   ],
   "source": [
    "result = df.aggregate(['mean', 'std'])\n",
    "print(result)"
   ]
  },
  {
   "cell_type": "markdown",
   "metadata": {},
   "source": [
    "## c.Aggregating with Different Functions for Different Columns"
   ]
  },
  {
   "cell_type": "code",
   "execution_count": 11,
   "metadata": {},
   "outputs": [
    {
     "name": "stdout",
     "output_type": "stream",
     "text": [
      "A    10.0\n",
      "B     6.5\n",
      "dtype: float64\n"
     ]
    }
   ],
   "source": [
    "result = df.aggregate({\n",
    "    'A': 'sum',\n",
    "    'B': 'mean'\n",
    "})\n",
    "print(result)"
   ]
  },
  {
   "cell_type": "markdown",
   "metadata": {},
   "source": [
    "## d. Aggregating Rows\n",
    "\n",
    "To aggregate over rows, set `axis=1`:"
   ]
  },
  {
   "cell_type": "code",
   "execution_count": 12,
   "metadata": {},
   "outputs": [
    {
     "name": "stdout",
     "output_type": "stream",
     "text": [
      "0     6\n",
      "1     8\n",
      "2    10\n",
      "3    12\n",
      "dtype: int64\n"
     ]
    }
   ],
   "source": [
    "result = df.aggregate('sum', axis=1)\n",
    "print(result)"
   ]
  },
  {
   "cell_type": "markdown",
   "metadata": {},
   "source": [
    "## e. Aggregating with Custom Functions"
   ]
  },
  {
   "cell_type": "code",
   "execution_count": 13,
   "metadata": {},
   "outputs": [
    {
     "name": "stdout",
     "output_type": "stream",
     "text": [
      "A    3\n",
      "B    3\n",
      "dtype: int64\n"
     ]
    }
   ],
   "source": [
    "def range_func(x):\n",
    "    return x.max() - x.min()\n",
    "\n",
    "result = df.aggregate(range_func)\n",
    "print(result)"
   ]
  }
 ],
 "metadata": {
  "kernelspec": {
   "display_name": ".venv",
   "language": "python",
   "name": "python3"
  },
  "language_info": {
   "codemirror_mode": {
    "name": "ipython",
    "version": 3
   },
   "file_extension": ".py",
   "mimetype": "text/x-python",
   "name": "python",
   "nbconvert_exporter": "python",
   "pygments_lexer": "ipython3",
   "version": "3.12.5"
  }
 },
 "nbformat": 4,
 "nbformat_minor": 2
}
