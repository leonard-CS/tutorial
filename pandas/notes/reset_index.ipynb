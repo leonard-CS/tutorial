{
 "cells": [
  {
   "cell_type": "markdown",
   "metadata": {},
   "source": [
    "# `df.reset_index()`\n",
    "\n",
    "In pandas, `reset_index()` is a method used to reset the index of a DataFrame. It can be useful in a variety of scenarios, such as after filtering or manipulating data when the index is no longer meaningful or when you want to convert the index into a column."
   ]
  },
  {
   "cell_type": "markdown",
   "metadata": {},
   "source": [
    "## Basic Usage\n",
    "\n",
    "When you call `reset_index()`, it returns a new DataFrame with the index reset to the default integer index (0, 1, 2, ...). By default, the old index is added as a new column in the DataFrame.\n",
    "\n",
    "**Syntax**:\n",
    "```python\n",
    "DataFrame.reset_index(level=None, drop=False, inplace=False, name=None, col_level=0, col_fill='')\n",
    "```\n",
    "- `level`: Level(s) to reset if the DataFrame has a MultiIndex.\n",
    "\n",
    "- `drop`: If `True`, the old index is not added as a column in the DataFrame.\n",
    "\n",
    "- `inplace`: If `True`, the operation is performed in place and the DataFrame is modified directly.\n",
    "\n",
    "- `name`: The name to be assigned to the new column created from the index.\n",
    "\n",
    "- `col_level` and `col_fill`: Used for handling MultiIndex columns."
   ]
  },
  {
   "cell_type": "code",
   "execution_count": 2,
   "metadata": {},
   "outputs": [
    {
     "name": "stdout",
     "output_type": "stream",
     "text": [
      "Original DataFrame:\n",
      "     A   B\n",
      "K0  A0  B0\n",
      "K1  A1  B1\n",
      "K2  A2  B2\n",
      "\n",
      "DataFrame after reset_index:\n",
      "  index   A   B\n",
      "0    K0  A0  B0\n",
      "1    K1  A1  B1\n",
      "2    K2  A2  B2\n",
      "\n",
      "DataFrame after renaming the column:\n",
      "  old_index   A   B\n",
      "0        K0  A0  B0\n",
      "1        K1  A1  B1\n",
      "2        K2  A2  B2\n"
     ]
    }
   ],
   "source": [
    "import pandas as pd\n",
    "\n",
    "# Create a DataFrame with a custom index\n",
    "df = pd.DataFrame({'A': ['A0', 'A1', 'A2'],\n",
    "                   'B': ['B0', 'B1', 'B2']},\n",
    "                   index=['K0', 'K1', 'K2'])\n",
    "\n",
    "print(\"Original DataFrame:\")\n",
    "print(df)\n",
    "\n",
    "# Reset index\n",
    "df_reset = df.reset_index()\n",
    "print(\"\\nDataFrame after reset_index:\")\n",
    "print(df_reset)\n",
    "\n",
    "# Rename the column\n",
    "df_reset.rename(columns={'index': 'old_index'}, inplace=True)\n",
    "print(\"\\nDataFrame after renaming the column:\")\n",
    "print(df_reset)"
   ]
  },
  {
   "cell_type": "markdown",
   "metadata": {},
   "source": [
    "## Resetting MultiIndex\n",
    "\n",
    "If the DataFrame has a MultiIndex, you can reset one or more levels of the index."
   ]
  },
  {
   "cell_type": "code",
   "execution_count": 3,
   "metadata": {},
   "outputs": [
    {
     "name": "stdout",
     "output_type": "stream",
     "text": [
      "Original MultiIndex DataFrame:\n",
      "               A   B\n",
      "first second        \n",
      "K0    X0      A0  B0\n",
      "      X1      A1  B1\n",
      "K1    X0      A2  B2\n",
      "      X1      A3  B3\n",
      "\n",
      "DataFrame after resetting 'first' level:\n",
      "       first   A   B\n",
      "second              \n",
      "X0        K0  A0  B0\n",
      "X1        K0  A1  B1\n",
      "X0        K1  A2  B2\n",
      "X1        K1  A3  B3\n"
     ]
    }
   ],
   "source": [
    "# Create a DataFrame with a MultiIndex\n",
    "df_multi = pd.DataFrame({'A': ['A0', 'A1', 'A2', 'A3'],\n",
    "                         'B': ['B0', 'B1', 'B2', 'B3']},\n",
    "                         index=pd.MultiIndex.from_tuples([('K0', 'X0'), ('K0', 'X1'), \n",
    "                                                         ('K1', 'X0'), ('K1', 'X1')],\n",
    "                                                        names=['first', 'second']))\n",
    "\n",
    "print(\"Original MultiIndex DataFrame:\")\n",
    "print(df_multi)\n",
    "\n",
    "# Reset only the 'first' level of the MultiIndex\n",
    "df_reset_multi = df_multi.reset_index(level='first')\n",
    "print(\"\\nDataFrame after resetting 'first' level:\")\n",
    "print(df_reset_multi)"
   ]
  }
 ],
 "metadata": {
  "kernelspec": {
   "display_name": ".venv",
   "language": "python",
   "name": "python3"
  },
  "language_info": {
   "codemirror_mode": {
    "name": "ipython",
    "version": 3
   },
   "file_extension": ".py",
   "mimetype": "text/x-python",
   "name": "python",
   "nbconvert_exporter": "python",
   "pygments_lexer": "ipython3",
   "version": "3.12.5"
  }
 },
 "nbformat": 4,
 "nbformat_minor": 2
}
